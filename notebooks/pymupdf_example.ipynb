{
 "cells": [
  {
   "attachments": {},
   "cell_type": "markdown",
   "metadata": {},
   "source": [
    "### Different PDF parsers\n",
    "\n",
    "- `PyMuPDF` is a Python wrapper for the MuPDF library, which is a lightweight PDF and XPS viewer and parser. It can be used to extract text, images, and other data from PDF files, as well as to manipulate PDF files programmatically. It provides a comprehensive set of tools for working with PDF files, including merging and splitting PDFs, adding annotations and bookmarks, and converting PDFs to other formats.\n",
    "\n",
    "- `DeepDocDetection` is a Python library for document analysis and OCR (Optical Character Recognition). It provides tools for detecting text, images, and tables in PDF files, as well as for performing OCR on scanned documents. It uses deep learning models to achieve high accuracy in document analysis and OCR."
   ]
  },
  {
   "attachments": {},
   "cell_type": "markdown",
   "metadata": {},
   "source": [
    "#### For this example we will use `PyMuPDF`\n",
    "\n",
    "The code performs the following steps to convert the PDF file into OCR-like images and extract the text:\n",
    "\n",
    "1. Import the necessary libraries: `os`, `pytesseract`, `Image` from `PIL`, and `convert_from_path` from `pdf2image`.\n",
    "2. Set the Tesseract command path to the correct location on your system.\n",
    "3. Define the path to the PDF file you want to process.\n",
    "4. Use the `convert_from_path` function from the `pdf2image` library to convert the PDF into a list of images, one for each page.\n",
    "5. Create a directory named `ocr_images` in the same location as the PDF file to store the OCR-like JPEG images.\n",
    "6. Iterate through the list of images, and for each image:\n",
    "   a. Save the image as a JPEG file in the `ocr_images` directory with a name like `ocr_image_0.jpeg`, `ocr_image_1.jpeg`, etc.\n",
    "   b. Add the file path of the saved JPEG image to a list `ocr_image_paths`.\n",
    "7. Initialize an empty string `full_text` to store the extracted text from the images.\n",
    "8. Iterate through the list of OCR-like JPEG images, and for each image:\n",
    "   a. Open the image using the `Image.open()` function from the `PIL` library.\n",
    "   b. Extract the text from the image using the `pytesseract.image_to_string()` function.\n",
    "   c. Append the extracted text to the `full_text` string, separated by a newline character.\n",
    "9. Save the extracted text (the content of the `full_text` string) to a file named `ocr_text.txt` in the same location as the PDF file.\n",
    "\n",
    "This code reads the text content from the PDF file by converting it into OCR-like images, then extracts the text using Tesseract OCR. The final extracted text is saved as a plain text file."
   ]
  },
  {
   "cell_type": "code",
   "execution_count": null,
   "metadata": {},
   "outputs": [],
   "source": [
    "%pip install PyMuPDF\n",
    "%pip install pdf2image pytesseract pillow PyMuPDF\n",
    "%brew install tesseract\n",
    "%which tesseract\n",
    "%brew install poppler"
   ]
  },
  {
   "cell_type": "code",
   "execution_count": null,
   "metadata": {},
   "outputs": [],
   "source": [
    "import os\n",
    "import pytesseract\n",
    "from PIL import Image\n",
    "from pdf2image import convert_from_path\n",
    "\n",
    "# Set Tesseract path\n",
    "pytesseract.pytesseract.tesseract_cmd = r'/somepath/tesseract'\n",
    "\n",
    "# PDF file path\n",
    "pdf_file_path = '/somepath/test.pdf'\n",
    "\n",
    "# Convert PDF to images\n",
    "images = convert_from_path(pdf_file_path)\n",
    "\n",
    "# Save images as OCR-like JPEGs\n",
    "ocr_image_dir = os.path.join(os.path.dirname(pdf_file_path), 'ocr_images')\n",
    "if not os.path.exists(ocr_image_dir):\n",
    "    os.makedirs(ocr_image_dir)\n",
    "\n",
    "ocr_image_paths = []\n",
    "for i, img in enumerate(images):\n",
    "    ocr_image_path = os.path.join(ocr_image_dir, f'ocr_image_{i}.jpeg')\n",
    "    img.save(ocr_image_path, 'JPEG')\n",
    "    ocr_image_paths.append(ocr_image_path)\n",
    "\n",
    "# Perform OCR using Tesseract\n",
    "full_text = ''\n",
    "for ocr_image_path in ocr_image_paths:\n",
    "    img = Image.open(ocr_image_path)\n",
    "    text = pytesseract.image_to_string(img)\n",
    "    full_text += text + '\\n'\n",
    "\n",
    "# Save the OCR text to a file\n",
    "ocr_text_path = os.path.join(os.path.dirname(pdf_file_path), 'ocr_text.txt')\n",
    "with open(ocr_text_path, 'w') as f:\n",
    "    f.write(full_text)\n"
   ]
  }
 ],
 "metadata": {
  "kernelspec": {
   "display_name": "venv",
   "language": "python",
   "name": "python3"
  },
  "language_info": {
   "codemirror_mode": {
    "name": "ipython",
    "version": 3
   },
   "file_extension": ".py",
   "mimetype": "text/x-python",
   "name": "python",
   "nbconvert_exporter": "python",
   "pygments_lexer": "ipython3",
   "version": "3.9.6"
  },
  "orig_nbformat": 4,
  "vscode": {
   "interpreter": {
    "hash": "659c28ce7e3ad1cd8a0d13fd6d5a8530fe6cc749aa1f817ccd73612dea7b9ea4"
   }
  }
 },
 "nbformat": 4,
 "nbformat_minor": 2
}
